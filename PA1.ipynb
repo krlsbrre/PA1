{
 "cells": [
  {
   "cell_type": "code",
   "execution_count": 265,
   "id": "7c7c8926-79c7-499f-b15a-f1ba84296b4d",
   "metadata": {},
   "outputs": [
    {
     "name": "stdin",
     "output_type": "stream",
     "text": [
      "input a word hacker\n"
     ]
    },
    {
     "name": "stdout",
     "output_type": "stream",
     "text": [
      "acehkr"
     ]
    }
   ],
   "source": [
    "# ALPHABET SOUP PROBLEM: Create a function that takes a string\n",
    "# and returns a string with its letters in alphabetical order\n\n",
    "# this defines the function \"alphabet_soup\" with an input inp\n",
    "def alphabet_soup(inp):\n",
    "    #the inp variable is then put into inp1 in order for it to be put into a list\n",
    "    #the inp variable is stored inside the list\n",
    "    inp1 = list(inp)\n",
    "    #The list is sorted alphabetically with the sort function of the list\n",
    "    inp1.sort()\n",
    "    #this loop outputs the letters 1 by 1 in an alphabetical order\n",
    "    #There's an end parameter to print without adding a new line\n",
    "    for x in inp1:\n",
    "        print(x, end = \"\")\n",
    "#this is where you'll input the word\n",
    "inp2 = input(\"input a word\")\n",
    "#calls the alphabet_soup function\n",
    "alphabet_soup(inp2)"
   ]
  },
  {
   "cell_type": "code",
   "execution_count": 127,
   "id": "56c964f7-df59-4e34-ac35-58c704245618",
   "metadata": {},
   "outputs": [
    {
     "data": {
      "text/plain": [
       "'I am >:( so Make me :)'"
      ]
     },
     "execution_count": 127,
     "metadata": {},
     "output_type": "execute_result"
    }
   ],
   "source": [
    "#defines the emotify function with an input inp\n",
    "def emotify(inp):\n",
    "    #whenever smile/Smile, grin/Grin, sad/Sad, mad/Mad is found in the input\n",
    "    #it will be replaced with the corresponding emoticon using the replace function\n",
    "    #the replace function will be put into the inp variable.\n",
    "    inp = inp.replace(\"smile\" or \"Smile\", \":)\")\n",
    "    inp = inp.replace(\"grin\" or \"Grin\", \":D\")\n",
    "    inp = inp.replace(\"sad\" or \"Sad\", \":(\")\n",
    "    inp = inp.replace(\"mad\" or \"Mad\", \">:(\")\n",
    "    #this returns the inp variable\n",
    "    return inp\n",
    "#calls the emotify function\n",
    "emotify(\"I am mad so Make me smile\")"
   ]
  },
  {
   "cell_type": "code",
   "execution_count": 257,
   "id": "0cd2a69c-bd8b-45e8-9fc9-1b3f47dfbf14",
   "metadata": {},
   "outputs": [
    {
     "name": "stdin",
     "output_type": "stream",
     "text": [
      "Enter number of elements :  5\n",
      "1:  1\n",
      "2:  2\n",
      "3:  3\n",
      "4:  4\n",
      "5:  5\n"
     ]
    },
    {
     "name": "stdout",
     "output_type": "stream",
     "text": [
      "first: 1 Middle: 234 last:  5 "
     ]
    }
   ],
   "source": [
    "#assigns an empty list to lst variable\n",
    "lst = []\n",
    "#asks the user for input for number of elements of the list\n",
    "n = int(input(\"Enter number of elements : \"))\n",
    "#loops the input based from the variable n and appends the new inputs to the list\n",
    "for i in range(0, n):\n",
    "    inp1 = int(input(f\"{i+1}: \"))\n",
    "    lst.append(inp1)  \n",
    "#lst[0] ensures that the first element is always printed\n",
    "print(\"first:\", lst[0], end = \" \")\n",
    "print(\"Middle: \", end = \"\")\n",
    "#len(lst) gets the length of the list and it is subtracted by 2 to ensure that the last element is not printed\n",
    "#it is then set as the boundary of the loop\n",
    "for x in range(len(lst) - 2):\n",
    "    #lst[x+1] ensures that the first element is not printed\n",
    "    print(lst[x+1], end = \"\")\n",
    "    #this ensures that everytime it loops, it goes through all the elements of the loop until it reaches the boundary\n",
    "    x+=1\n",
    "#lst[-1] ensures that the last element is always printed\n",
    "print(\" last: \", lst[-1], end = \" \")"
   ]
  }
 ],
 "metadata": {
  "kernelspec": {
   "display_name": "Python 3 (ipykernel)",
   "language": "python",
   "name": "python3"
  },
  "language_info": {
   "codemirror_mode": {
    "name": "ipython",
    "version": 3
   },
   "file_extension": ".py",
   "mimetype": "text/x-python",
   "name": "python",
   "nbconvert_exporter": "python",
   "pygments_lexer": "ipython3",
   "version": "3.12.4"
  }
 },
 "nbformat": 4,
 "nbformat_minor": 5
}
